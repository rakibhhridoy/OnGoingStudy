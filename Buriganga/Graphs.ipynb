{
 "cells": [
  {
   "cell_type": "code",
   "execution_count": 1,
   "id": "c06e7383",
   "metadata": {},
   "outputs": [],
   "source": [
    "import pandas as pd\n",
    "import matplotlib.pyplot as plt"
   ]
  },
  {
   "cell_type": "code",
   "execution_count": 4,
   "id": "5d669e1b",
   "metadata": {},
   "outputs": [],
   "source": [
    "df = pd.read_csv(\"data/summer_data_all_param.csv\")"
   ]
  },
  {
   "cell_type": "code",
   "execution_count": 10,
   "id": "b20cfb6c",
   "metadata": {},
   "outputs": [
    {
     "data": {
      "text/html": [
       "<div>\n",
       "<style scoped>\n",
       "    .dataframe tbody tr th:only-of-type {\n",
       "        vertical-align: middle;\n",
       "    }\n",
       "\n",
       "    .dataframe tbody tr th {\n",
       "        vertical-align: top;\n",
       "    }\n",
       "\n",
       "    .dataframe thead th {\n",
       "        text-align: right;\n",
       "    }\n",
       "</style>\n",
       "<table border=\"1\" class=\"dataframe\">\n",
       "  <thead>\n",
       "    <tr style=\"text-align: right;\">\n",
       "      <th></th>\n",
       "      <th>SamplingPoint</th>\n",
       "      <th>Temperature</th>\n",
       "      <th>pH</th>\n",
       "      <th>EC</th>\n",
       "      <th>TSS</th>\n",
       "      <th>Turbidity</th>\n",
       "      <th>Salinity</th>\n",
       "      <th>TDS</th>\n",
       "      <th>DO</th>\n",
       "      <th>COD</th>\n",
       "      <th>...</th>\n",
       "      <th>Mn</th>\n",
       "      <th>Hg</th>\n",
       "      <th>As</th>\n",
       "      <th>Pb</th>\n",
       "      <th>THB</th>\n",
       "      <th>TC</th>\n",
       "      <th>FC</th>\n",
       "      <th>FS</th>\n",
       "      <th>Vibrio C</th>\n",
       "      <th>E Coli</th>\n",
       "    </tr>\n",
       "  </thead>\n",
       "  <tbody>\n",
       "    <tr>\n",
       "      <th>0</th>\n",
       "      <td>Gabtoli Dhalwes</td>\n",
       "      <td>30.4</td>\n",
       "      <td>6.17</td>\n",
       "      <td>1790</td>\n",
       "      <td>309</td>\n",
       "      <td>108</td>\n",
       "      <td>639</td>\n",
       "      <td>852</td>\n",
       "      <td>0.96</td>\n",
       "      <td>700</td>\n",
       "      <td>...</td>\n",
       "      <td>0.995</td>\n",
       "      <td>0.009</td>\n",
       "      <td>0.109</td>\n",
       "      <td>0.188</td>\n",
       "      <td>10.25</td>\n",
       "      <td>230</td>\n",
       "      <td>56</td>\n",
       "      <td>83</td>\n",
       "      <td>16.21</td>\n",
       "      <td>18</td>\n",
       "    </tr>\n",
       "    <tr>\n",
       "      <th>1</th>\n",
       "      <td>Gabtoli Turag</td>\n",
       "      <td>30.7</td>\n",
       "      <td>5.89</td>\n",
       "      <td>1453</td>\n",
       "      <td>322</td>\n",
       "      <td>126</td>\n",
       "      <td>702</td>\n",
       "      <td>1208</td>\n",
       "      <td>0.73</td>\n",
       "      <td>718</td>\n",
       "      <td>...</td>\n",
       "      <td>1.178</td>\n",
       "      <td>0.027</td>\n",
       "      <td>0.102</td>\n",
       "      <td>0.452</td>\n",
       "      <td>18.87</td>\n",
       "      <td>270</td>\n",
       "      <td>216</td>\n",
       "      <td>88</td>\n",
       "      <td>18.96</td>\n",
       "      <td>70</td>\n",
       "    </tr>\n",
       "    <tr>\n",
       "      <th>2</th>\n",
       "      <td>Shah Cement</td>\n",
       "      <td>32.7</td>\n",
       "      <td>5.02</td>\n",
       "      <td>2047</td>\n",
       "      <td>434</td>\n",
       "      <td>174</td>\n",
       "      <td>730</td>\n",
       "      <td>783</td>\n",
       "      <td>0.15</td>\n",
       "      <td>870</td>\n",
       "      <td>...</td>\n",
       "      <td>1.073</td>\n",
       "      <td>0.108</td>\n",
       "      <td>0.063</td>\n",
       "      <td>0.337</td>\n",
       "      <td>23.63</td>\n",
       "      <td>420</td>\n",
       "      <td>394</td>\n",
       "      <td>121</td>\n",
       "      <td>23.74</td>\n",
       "      <td>81</td>\n",
       "    </tr>\n",
       "    <tr>\n",
       "      <th>3</th>\n",
       "      <td>Hazaribag</td>\n",
       "      <td>32.8</td>\n",
       "      <td>4.37</td>\n",
       "      <td>538</td>\n",
       "      <td>461</td>\n",
       "      <td>162</td>\n",
       "      <td>360</td>\n",
       "      <td>1790</td>\n",
       "      <td>0.12</td>\n",
       "      <td>912</td>\n",
       "      <td>...</td>\n",
       "      <td>3.450</td>\n",
       "      <td>0.176</td>\n",
       "      <td>0.098</td>\n",
       "      <td>1.836</td>\n",
       "      <td>33.79</td>\n",
       "      <td>440</td>\n",
       "      <td>349</td>\n",
       "      <td>100</td>\n",
       "      <td>24.58</td>\n",
       "      <td>79</td>\n",
       "    </tr>\n",
       "    <tr>\n",
       "      <th>4</th>\n",
       "      <td>Rayerbazar</td>\n",
       "      <td>29.5</td>\n",
       "      <td>6.59</td>\n",
       "      <td>692</td>\n",
       "      <td>178</td>\n",
       "      <td>82</td>\n",
       "      <td>244</td>\n",
       "      <td>825</td>\n",
       "      <td>1.10</td>\n",
       "      <td>655</td>\n",
       "      <td>...</td>\n",
       "      <td>1.002</td>\n",
       "      <td>0.093</td>\n",
       "      <td>0.057</td>\n",
       "      <td>0.119</td>\n",
       "      <td>8.22</td>\n",
       "      <td>190</td>\n",
       "      <td>199</td>\n",
       "      <td>87</td>\n",
       "      <td>15.43</td>\n",
       "      <td>13</td>\n",
       "    </tr>\n",
       "  </tbody>\n",
       "</table>\n",
       "<p>5 rows × 34 columns</p>\n",
       "</div>"
      ],
      "text/plain": [
       "     SamplingPoint  Temperature    pH    EC  TSS  Turbidity  Salinity   TDS  \\\n",
       "0  Gabtoli Dhalwes         30.4  6.17  1790  309        108       639   852   \n",
       "1    Gabtoli Turag         30.7  5.89  1453  322        126       702  1208   \n",
       "2      Shah Cement         32.7  5.02  2047  434        174       730   783   \n",
       "3        Hazaribag         32.8  4.37   538  461        162       360  1790   \n",
       "4       Rayerbazar         29.5  6.59   692  178         82       244   825   \n",
       "\n",
       "     DO  COD  ...     Mn     Hg     As     Pb    THB   TC   FC   FS  Vibrio C  \\\n",
       "0  0.96  700  ...  0.995  0.009  0.109  0.188  10.25  230   56   83     16.21   \n",
       "1  0.73  718  ...  1.178  0.027  0.102  0.452  18.87  270  216   88     18.96   \n",
       "2  0.15  870  ...  1.073  0.108  0.063  0.337  23.63  420  394  121     23.74   \n",
       "3  0.12  912  ...  3.450  0.176  0.098  1.836  33.79  440  349  100     24.58   \n",
       "4  1.10  655  ...  1.002  0.093  0.057  0.119   8.22  190  199   87     15.43   \n",
       "\n",
       "   E Coli  \n",
       "0      18  \n",
       "1      70  \n",
       "2      81  \n",
       "3      79  \n",
       "4      13  \n",
       "\n",
       "[5 rows x 34 columns]"
      ]
     },
     "execution_count": 10,
     "metadata": {},
     "output_type": "execute_result"
    }
   ],
   "source": [
    "df.head()"
   ]
  },
  {
   "cell_type": "code",
   "execution_count": 6,
   "id": "73294a05",
   "metadata": {},
   "outputs": [
    {
     "data": {
      "text/plain": [
       "Index(['Unnamed: 0', 'SamplingPoint', 'Temperature', 'pH', 'EC', 'TSS',\n",
       "       'Turbidity', 'Salinity', 'TDS', 'DO', 'COD', 'NH4+', 'NO3', 'Phosphate',\n",
       "       'Sulfates', 'K', 'Ca', 'Mg', 'Cl', 'Br', 'Cd', 'Cr', 'Ni', 'Cu', 'Zn',\n",
       "       'Mn', 'Hg', 'As', 'Pb', 'THB', 'TC', 'FC', 'FS', 'Vibrio C', 'E Coli'],\n",
       "      dtype='object')"
      ]
     },
     "execution_count": 6,
     "metadata": {},
     "output_type": "execute_result"
    }
   ],
   "source": [
    "df.columns"
   ]
  },
  {
   "cell_type": "code",
   "execution_count": 8,
   "id": "b6d185b9",
   "metadata": {},
   "outputs": [],
   "source": [
    "df.drop(columns= \"Unnamed: 0\", inplace=True)"
   ]
  },
  {
   "cell_type": "code",
   "execution_count": 9,
   "id": "f0c1be8d",
   "metadata": {},
   "outputs": [
    {
     "data": {
      "text/html": [
       "<div>\n",
       "<style scoped>\n",
       "    .dataframe tbody tr th:only-of-type {\n",
       "        vertical-align: middle;\n",
       "    }\n",
       "\n",
       "    .dataframe tbody tr th {\n",
       "        vertical-align: top;\n",
       "    }\n",
       "\n",
       "    .dataframe thead th {\n",
       "        text-align: right;\n",
       "    }\n",
       "</style>\n",
       "<table border=\"1\" class=\"dataframe\">\n",
       "  <thead>\n",
       "    <tr style=\"text-align: right;\">\n",
       "      <th></th>\n",
       "      <th>SamplingPoint</th>\n",
       "      <th>Temperature</th>\n",
       "      <th>pH</th>\n",
       "      <th>EC</th>\n",
       "      <th>TSS</th>\n",
       "      <th>Turbidity</th>\n",
       "      <th>Salinity</th>\n",
       "      <th>TDS</th>\n",
       "      <th>DO</th>\n",
       "      <th>COD</th>\n",
       "      <th>...</th>\n",
       "      <th>Mn</th>\n",
       "      <th>Hg</th>\n",
       "      <th>As</th>\n",
       "      <th>Pb</th>\n",
       "      <th>THB</th>\n",
       "      <th>TC</th>\n",
       "      <th>FC</th>\n",
       "      <th>FS</th>\n",
       "      <th>Vibrio C</th>\n",
       "      <th>E Coli</th>\n",
       "    </tr>\n",
       "  </thead>\n",
       "  <tbody>\n",
       "    <tr>\n",
       "      <th>0</th>\n",
       "      <td>Gabtoli Dhalwes</td>\n",
       "      <td>30.4</td>\n",
       "      <td>6.17</td>\n",
       "      <td>1790</td>\n",
       "      <td>309</td>\n",
       "      <td>108</td>\n",
       "      <td>639</td>\n",
       "      <td>852</td>\n",
       "      <td>0.96</td>\n",
       "      <td>700</td>\n",
       "      <td>...</td>\n",
       "      <td>0.995</td>\n",
       "      <td>0.009</td>\n",
       "      <td>0.109</td>\n",
       "      <td>0.188</td>\n",
       "      <td>10.25</td>\n",
       "      <td>230</td>\n",
       "      <td>56</td>\n",
       "      <td>83</td>\n",
       "      <td>16.21</td>\n",
       "      <td>18</td>\n",
       "    </tr>\n",
       "    <tr>\n",
       "      <th>1</th>\n",
       "      <td>Gabtoli Turag</td>\n",
       "      <td>30.7</td>\n",
       "      <td>5.89</td>\n",
       "      <td>1453</td>\n",
       "      <td>322</td>\n",
       "      <td>126</td>\n",
       "      <td>702</td>\n",
       "      <td>1208</td>\n",
       "      <td>0.73</td>\n",
       "      <td>718</td>\n",
       "      <td>...</td>\n",
       "      <td>1.178</td>\n",
       "      <td>0.027</td>\n",
       "      <td>0.102</td>\n",
       "      <td>0.452</td>\n",
       "      <td>18.87</td>\n",
       "      <td>270</td>\n",
       "      <td>216</td>\n",
       "      <td>88</td>\n",
       "      <td>18.96</td>\n",
       "      <td>70</td>\n",
       "    </tr>\n",
       "    <tr>\n",
       "      <th>2</th>\n",
       "      <td>Shah Cement</td>\n",
       "      <td>32.7</td>\n",
       "      <td>5.02</td>\n",
       "      <td>2047</td>\n",
       "      <td>434</td>\n",
       "      <td>174</td>\n",
       "      <td>730</td>\n",
       "      <td>783</td>\n",
       "      <td>0.15</td>\n",
       "      <td>870</td>\n",
       "      <td>...</td>\n",
       "      <td>1.073</td>\n",
       "      <td>0.108</td>\n",
       "      <td>0.063</td>\n",
       "      <td>0.337</td>\n",
       "      <td>23.63</td>\n",
       "      <td>420</td>\n",
       "      <td>394</td>\n",
       "      <td>121</td>\n",
       "      <td>23.74</td>\n",
       "      <td>81</td>\n",
       "    </tr>\n",
       "    <tr>\n",
       "      <th>3</th>\n",
       "      <td>Hazaribag</td>\n",
       "      <td>32.8</td>\n",
       "      <td>4.37</td>\n",
       "      <td>538</td>\n",
       "      <td>461</td>\n",
       "      <td>162</td>\n",
       "      <td>360</td>\n",
       "      <td>1790</td>\n",
       "      <td>0.12</td>\n",
       "      <td>912</td>\n",
       "      <td>...</td>\n",
       "      <td>3.450</td>\n",
       "      <td>0.176</td>\n",
       "      <td>0.098</td>\n",
       "      <td>1.836</td>\n",
       "      <td>33.79</td>\n",
       "      <td>440</td>\n",
       "      <td>349</td>\n",
       "      <td>100</td>\n",
       "      <td>24.58</td>\n",
       "      <td>79</td>\n",
       "    </tr>\n",
       "    <tr>\n",
       "      <th>4</th>\n",
       "      <td>Rayerbazar</td>\n",
       "      <td>29.5</td>\n",
       "      <td>6.59</td>\n",
       "      <td>692</td>\n",
       "      <td>178</td>\n",
       "      <td>82</td>\n",
       "      <td>244</td>\n",
       "      <td>825</td>\n",
       "      <td>1.10</td>\n",
       "      <td>655</td>\n",
       "      <td>...</td>\n",
       "      <td>1.002</td>\n",
       "      <td>0.093</td>\n",
       "      <td>0.057</td>\n",
       "      <td>0.119</td>\n",
       "      <td>8.22</td>\n",
       "      <td>190</td>\n",
       "      <td>199</td>\n",
       "      <td>87</td>\n",
       "      <td>15.43</td>\n",
       "      <td>13</td>\n",
       "    </tr>\n",
       "    <tr>\n",
       "      <th>5</th>\n",
       "      <td>Kholamora</td>\n",
       "      <td>32.2</td>\n",
       "      <td>5.33</td>\n",
       "      <td>1596</td>\n",
       "      <td>296</td>\n",
       "      <td>76</td>\n",
       "      <td>930</td>\n",
       "      <td>2009</td>\n",
       "      <td>0.51</td>\n",
       "      <td>725</td>\n",
       "      <td>...</td>\n",
       "      <td>0.872</td>\n",
       "      <td>0.017</td>\n",
       "      <td>0.075</td>\n",
       "      <td>0.178</td>\n",
       "      <td>17.68</td>\n",
       "      <td>360</td>\n",
       "      <td>300</td>\n",
       "      <td>95</td>\n",
       "      <td>22.10</td>\n",
       "      <td>75</td>\n",
       "    </tr>\n",
       "    <tr>\n",
       "      <th>6</th>\n",
       "      <td>Zinzira</td>\n",
       "      <td>30.1</td>\n",
       "      <td>6.78</td>\n",
       "      <td>1963</td>\n",
       "      <td>302</td>\n",
       "      <td>108</td>\n",
       "      <td>1070</td>\n",
       "      <td>2036</td>\n",
       "      <td>1.39</td>\n",
       "      <td>530</td>\n",
       "      <td>...</td>\n",
       "      <td>3.107</td>\n",
       "      <td>0.089</td>\n",
       "      <td>0.112</td>\n",
       "      <td>1.457</td>\n",
       "      <td>12.41</td>\n",
       "      <td>217</td>\n",
       "      <td>107</td>\n",
       "      <td>80</td>\n",
       "      <td>16.72</td>\n",
       "      <td>39</td>\n",
       "    </tr>\n",
       "    <tr>\n",
       "      <th>7</th>\n",
       "      <td>Sadarghat Terminal</td>\n",
       "      <td>32.9</td>\n",
       "      <td>4.11</td>\n",
       "      <td>2119</td>\n",
       "      <td>464</td>\n",
       "      <td>175</td>\n",
       "      <td>1156</td>\n",
       "      <td>2377</td>\n",
       "      <td>0.00</td>\n",
       "      <td>1180</td>\n",
       "      <td>...</td>\n",
       "      <td>2.456</td>\n",
       "      <td>0.255</td>\n",
       "      <td>0.161</td>\n",
       "      <td>2.144</td>\n",
       "      <td>37.98</td>\n",
       "      <td>795</td>\n",
       "      <td>651</td>\n",
       "      <td>177</td>\n",
       "      <td>25.89</td>\n",
       "      <td>141</td>\n",
       "    </tr>\n",
       "    <tr>\n",
       "      <th>8</th>\n",
       "      <td>Postogola Bri</td>\n",
       "      <td>32.4</td>\n",
       "      <td>5.24</td>\n",
       "      <td>2550</td>\n",
       "      <td>387</td>\n",
       "      <td>162</td>\n",
       "      <td>1332</td>\n",
       "      <td>1895</td>\n",
       "      <td>0.27</td>\n",
       "      <td>879</td>\n",
       "      <td>...</td>\n",
       "      <td>1.114</td>\n",
       "      <td>0.198</td>\n",
       "      <td>0.059</td>\n",
       "      <td>1.075</td>\n",
       "      <td>29.59</td>\n",
       "      <td>460</td>\n",
       "      <td>477</td>\n",
       "      <td>132</td>\n",
       "      <td>21.47</td>\n",
       "      <td>78</td>\n",
       "    </tr>\n",
       "  </tbody>\n",
       "</table>\n",
       "<p>9 rows × 34 columns</p>\n",
       "</div>"
      ],
      "text/plain": [
       "        SamplingPoint  Temperature    pH    EC  TSS  Turbidity  Salinity  \\\n",
       "0     Gabtoli Dhalwes         30.4  6.17  1790  309        108       639   \n",
       "1       Gabtoli Turag         30.7  5.89  1453  322        126       702   \n",
       "2         Shah Cement         32.7  5.02  2047  434        174       730   \n",
       "3           Hazaribag         32.8  4.37   538  461        162       360   \n",
       "4          Rayerbazar         29.5  6.59   692  178         82       244   \n",
       "5           Kholamora         32.2  5.33  1596  296         76       930   \n",
       "6             Zinzira         30.1  6.78  1963  302        108      1070   \n",
       "7  Sadarghat Terminal         32.9  4.11  2119  464        175      1156   \n",
       "8       Postogola Bri         32.4  5.24  2550  387        162      1332   \n",
       "\n",
       "    TDS    DO   COD  ...     Mn     Hg     As     Pb    THB   TC   FC   FS  \\\n",
       "0   852  0.96   700  ...  0.995  0.009  0.109  0.188  10.25  230   56   83   \n",
       "1  1208  0.73   718  ...  1.178  0.027  0.102  0.452  18.87  270  216   88   \n",
       "2   783  0.15   870  ...  1.073  0.108  0.063  0.337  23.63  420  394  121   \n",
       "3  1790  0.12   912  ...  3.450  0.176  0.098  1.836  33.79  440  349  100   \n",
       "4   825  1.10   655  ...  1.002  0.093  0.057  0.119   8.22  190  199   87   \n",
       "5  2009  0.51   725  ...  0.872  0.017  0.075  0.178  17.68  360  300   95   \n",
       "6  2036  1.39   530  ...  3.107  0.089  0.112  1.457  12.41  217  107   80   \n",
       "7  2377  0.00  1180  ...  2.456  0.255  0.161  2.144  37.98  795  651  177   \n",
       "8  1895  0.27   879  ...  1.114  0.198  0.059  1.075  29.59  460  477  132   \n",
       "\n",
       "   Vibrio C  E Coli  \n",
       "0     16.21      18  \n",
       "1     18.96      70  \n",
       "2     23.74      81  \n",
       "3     24.58      79  \n",
       "4     15.43      13  \n",
       "5     22.10      75  \n",
       "6     16.72      39  \n",
       "7     25.89     141  \n",
       "8     21.47      78  \n",
       "\n",
       "[9 rows x 34 columns]"
      ]
     },
     "execution_count": 9,
     "metadata": {},
     "output_type": "execute_result"
    }
   ],
   "source": [
    "df"
   ]
  },
  {
   "cell_type": "code",
   "execution_count": 12,
   "id": "83d38518",
   "metadata": {},
   "outputs": [],
   "source": [
    "samplingpoint = df.SamplingPoint"
   ]
  },
  {
   "cell_type": "code",
   "execution_count": 13,
   "id": "9fdbd1ac",
   "metadata": {},
   "outputs": [],
   "source": [
    "df.drop(columns=\"SamplingPoint\", inplace=True)"
   ]
  },
  {
   "cell_type": "code",
   "execution_count": 15,
   "id": "d5a1d83d",
   "metadata": {},
   "outputs": [
    {
     "data": {
      "text/html": [
       "<div>\n",
       "<style scoped>\n",
       "    .dataframe tbody tr th:only-of-type {\n",
       "        vertical-align: middle;\n",
       "    }\n",
       "\n",
       "    .dataframe tbody tr th {\n",
       "        vertical-align: top;\n",
       "    }\n",
       "\n",
       "    .dataframe thead th {\n",
       "        text-align: right;\n",
       "    }\n",
       "</style>\n",
       "<table border=\"1\" class=\"dataframe\">\n",
       "  <thead>\n",
       "    <tr style=\"text-align: right;\">\n",
       "      <th></th>\n",
       "      <th>Temperature</th>\n",
       "      <th>pH</th>\n",
       "      <th>EC</th>\n",
       "      <th>TSS</th>\n",
       "      <th>Turbidity</th>\n",
       "      <th>Salinity</th>\n",
       "      <th>TDS</th>\n",
       "      <th>DO</th>\n",
       "      <th>COD</th>\n",
       "      <th>NH4+</th>\n",
       "      <th>...</th>\n",
       "      <th>Mn</th>\n",
       "      <th>Hg</th>\n",
       "      <th>As</th>\n",
       "      <th>Pb</th>\n",
       "      <th>THB</th>\n",
       "      <th>TC</th>\n",
       "      <th>FC</th>\n",
       "      <th>FS</th>\n",
       "      <th>Vibrio C</th>\n",
       "      <th>E Coli</th>\n",
       "    </tr>\n",
       "  </thead>\n",
       "  <tbody>\n",
       "    <tr>\n",
       "      <th>0</th>\n",
       "      <td>0.013543</td>\n",
       "      <td>0.002749</td>\n",
       "      <td>0.797406</td>\n",
       "      <td>0.137653</td>\n",
       "      <td>0.048112</td>\n",
       "      <td>0.284660</td>\n",
       "      <td>0.379547</td>\n",
       "      <td>0.000428</td>\n",
       "      <td>0.311835</td>\n",
       "      <td>0.001292</td>\n",
       "      <td>...</td>\n",
       "      <td>0.000443</td>\n",
       "      <td>0.000004</td>\n",
       "      <td>0.000049</td>\n",
       "      <td>0.000084</td>\n",
       "      <td>0.004566</td>\n",
       "      <td>0.102460</td>\n",
       "      <td>0.024947</td>\n",
       "      <td>0.036975</td>\n",
       "      <td>0.007221</td>\n",
       "      <td>0.008019</td>\n",
       "    </tr>\n",
       "    <tr>\n",
       "      <th>1</th>\n",
       "      <td>0.013926</td>\n",
       "      <td>0.002672</td>\n",
       "      <td>0.659096</td>\n",
       "      <td>0.146063</td>\n",
       "      <td>0.057155</td>\n",
       "      <td>0.318435</td>\n",
       "      <td>0.547962</td>\n",
       "      <td>0.000331</td>\n",
       "      <td>0.325693</td>\n",
       "      <td>0.001270</td>\n",
       "      <td>...</td>\n",
       "      <td>0.000534</td>\n",
       "      <td>0.000012</td>\n",
       "      <td>0.000046</td>\n",
       "      <td>0.000205</td>\n",
       "      <td>0.008560</td>\n",
       "      <td>0.122475</td>\n",
       "      <td>0.097980</td>\n",
       "      <td>0.039918</td>\n",
       "      <td>0.008600</td>\n",
       "      <td>0.031753</td>\n",
       "    </tr>\n",
       "    <tr>\n",
       "      <th>2</th>\n",
       "      <td>0.012628</td>\n",
       "      <td>0.001939</td>\n",
       "      <td>0.790527</td>\n",
       "      <td>0.167606</td>\n",
       "      <td>0.067197</td>\n",
       "      <td>0.281917</td>\n",
       "      <td>0.302385</td>\n",
       "      <td>0.000058</td>\n",
       "      <td>0.335984</td>\n",
       "      <td>0.002935</td>\n",
       "      <td>...</td>\n",
       "      <td>0.000414</td>\n",
       "      <td>0.000042</td>\n",
       "      <td>0.000024</td>\n",
       "      <td>0.000130</td>\n",
       "      <td>0.009126</td>\n",
       "      <td>0.162199</td>\n",
       "      <td>0.152158</td>\n",
       "      <td>0.046729</td>\n",
       "      <td>0.009168</td>\n",
       "      <td>0.031281</td>\n",
       "    </tr>\n",
       "    <tr>\n",
       "      <th>3</th>\n",
       "      <td>0.014604</td>\n",
       "      <td>0.001946</td>\n",
       "      <td>0.239535</td>\n",
       "      <td>0.205252</td>\n",
       "      <td>0.072128</td>\n",
       "      <td>0.160283</td>\n",
       "      <td>0.796964</td>\n",
       "      <td>0.000053</td>\n",
       "      <td>0.406051</td>\n",
       "      <td>0.003651</td>\n",
       "      <td>...</td>\n",
       "      <td>0.001536</td>\n",
       "      <td>0.000078</td>\n",
       "      <td>0.000044</td>\n",
       "      <td>0.000817</td>\n",
       "      <td>0.015044</td>\n",
       "      <td>0.195902</td>\n",
       "      <td>0.155386</td>\n",
       "      <td>0.044523</td>\n",
       "      <td>0.010944</td>\n",
       "      <td>0.035173</td>\n",
       "    </tr>\n",
       "    <tr>\n",
       "      <th>4</th>\n",
       "      <td>0.022092</td>\n",
       "      <td>0.004935</td>\n",
       "      <td>0.518237</td>\n",
       "      <td>0.133304</td>\n",
       "      <td>0.061410</td>\n",
       "      <td>0.182731</td>\n",
       "      <td>0.617840</td>\n",
       "      <td>0.000824</td>\n",
       "      <td>0.490527</td>\n",
       "      <td>0.002247</td>\n",
       "      <td>...</td>\n",
       "      <td>0.000750</td>\n",
       "      <td>0.000070</td>\n",
       "      <td>0.000043</td>\n",
       "      <td>0.000089</td>\n",
       "      <td>0.006156</td>\n",
       "      <td>0.142290</td>\n",
       "      <td>0.149030</td>\n",
       "      <td>0.065154</td>\n",
       "      <td>0.011555</td>\n",
       "      <td>0.009736</td>\n",
       "    </tr>\n",
       "  </tbody>\n",
       "</table>\n",
       "<p>5 rows × 33 columns</p>\n",
       "</div>"
      ],
      "text/plain": [
       "   Temperature        pH        EC       TSS  Turbidity  Salinity       TDS  \\\n",
       "0     0.013543  0.002749  0.797406  0.137653   0.048112  0.284660  0.379547   \n",
       "1     0.013926  0.002672  0.659096  0.146063   0.057155  0.318435  0.547962   \n",
       "2     0.012628  0.001939  0.790527  0.167606   0.067197  0.281917  0.302385   \n",
       "3     0.014604  0.001946  0.239535  0.205252   0.072128  0.160283  0.796964   \n",
       "4     0.022092  0.004935  0.518237  0.133304   0.061410  0.182731  0.617840   \n",
       "\n",
       "         DO       COD      NH4+  ...        Mn        Hg        As        Pb  \\\n",
       "0  0.000428  0.311835  0.001292  ...  0.000443  0.000004  0.000049  0.000084   \n",
       "1  0.000331  0.325693  0.001270  ...  0.000534  0.000012  0.000046  0.000205   \n",
       "2  0.000058  0.335984  0.002935  ...  0.000414  0.000042  0.000024  0.000130   \n",
       "3  0.000053  0.406051  0.003651  ...  0.001536  0.000078  0.000044  0.000817   \n",
       "4  0.000824  0.490527  0.002247  ...  0.000750  0.000070  0.000043  0.000089   \n",
       "\n",
       "        THB        TC        FC        FS  Vibrio C    E Coli  \n",
       "0  0.004566  0.102460  0.024947  0.036975  0.007221  0.008019  \n",
       "1  0.008560  0.122475  0.097980  0.039918  0.008600  0.031753  \n",
       "2  0.009126  0.162199  0.152158  0.046729  0.009168  0.031281  \n",
       "3  0.015044  0.195902  0.155386  0.044523  0.010944  0.035173  \n",
       "4  0.006156  0.142290  0.149030  0.065154  0.011555  0.009736  \n",
       "\n",
       "[5 rows x 33 columns]"
      ]
     },
     "execution_count": 15,
     "metadata": {},
     "output_type": "execute_result"
    }
   ],
   "source": [
    "from sklearn.preprocessing import normalize\n",
    "data_scaled = normalize(df)\n",
    "data_scaled = pd.DataFrame(data_scaled, columns=df.columns)\n",
    "data_scaled.head()"
   ]
  },
  {
   "cell_type": "code",
   "execution_count": 18,
   "id": "8934de48",
   "metadata": {},
   "outputs": [
    {
     "data": {
      "image/png": "[encoded data removed]",
      "text/plain": [
       "<Figure size 720x504 with 1 Axes>"
      ]
     },
     "metadata": {
      "needs_background": "light"
     },
     "output_type": "display_data"
    }
   ],
   "source": [
    "import scipy.cluster.hierarchy as shc\n",
    "plt.figure(figsize=(10, 7))  \n",
    "plt.title(\"Dendrograms\")  \n",
    "dend = shc.dendrogram(shc.linkage(data_scaled, method='ward'))"
   ]
  },
  {
   "cell_type": "code",
   "execution_count": 22,
   "id": "58504726",
   "metadata": {},
   "outputs": [
    {
     "data": {
      "text/plain": [
       "<matplotlib.lines.Line2D at 0x7f1a35e82d90>"
      ]
     },
     "execution_count": 22,
     "metadata": {},
     "output_type": "execute_result"
    },
    {
     "data": {
      "image/png": "[encoded data removed]",
      "text/plain": [
       "<Figure size 720x504 with 1 Axes>"
      ]
     },
     "metadata": {
      "needs_background": "light"
     },
     "output_type": "display_data"
    }
   ],
   "source": [
    "plt.figure(figsize=(10, 7))  \n",
    "plt.title(\"Dendrograms\")  \n",
    "dend = shc.dendrogram(shc.linkage(data_scaled, method='ward'))\n",
    "plt.axhline(y=.38, color='r', linestyle='--')"
   ]
  },
  {
   "cell_type": "code",
   "execution_count": 24,
   "id": "721a3d2f",
   "metadata": {},
   "outputs": [],
   "source": [
    "import numpy as np"
   ]
  },
  {
   "cell_type": "code",
   "execution_count": 27,
   "id": "ebc67b93",
   "metadata": {},
   "outputs": [
    {
     "data": {
      "text/plain": [
       "<matplotlib.lines.Line2D at 0x7f1a35329ac0>"
      ]
     },
     "execution_count": 27,
     "metadata": {},
     "output_type": "execute_result"
    },
    {
     "data": {
      "image/png": "[encoded data removed]",
      "text/plain": [
       "<Figure size 720x504 with 1 Axes>"
      ]
     },
     "metadata": {
      "needs_background": "light"
     },
     "output_type": "display_data"
    }
   ],
   "source": [
    "plt.figure(figsize=(10, 7))  \n",
    "plt.title(\"Dendrograms\")  \n",
    "dend = shc.dendrogram(shc.linkage(data_scaled, method='ward'))\n",
    "plt.axhline(y=.38, color='r', linestyle='--')"
   ]
  },
  {
   "cell_type": "code",
   "execution_count": 29,
   "id": "e11574fe",
   "metadata": {},
   "outputs": [
    {
     "data": {
      "text/plain": [
       "<matplotlib.lines.Line2D at 0x7f1a35df0610>"
      ]
     },
     "execution_count": 29,
     "metadata": {},
     "output_type": "execute_result"
    },
    {
     "data": {
      "image/png": "[encoded data removed]",
      "text/plain": [
       "<Figure size 720x504 with 1 Axes>"
      ]
     },
     "metadata": {
      "needs_background": "light"
     },
     "output_type": "display_data"
    }
   ],
   "source": [
    "import scipy.cluster.hierarchy as shc\n",
    "from sklearn.preprocessing import normalize\n",
    "import pandas as pd\n",
    "import matplotlib.pyplot as plt\n",
    "\n",
    "\n",
    "\n",
    "df = pd.read_csv(\"data/summer_data_all_param.csv\")\n",
    "df.drop(columns= [\"Unnamed: 0\", \"SamplingPoint\"], inplace=True)\n",
    "data_scaled = normalize(df)\n",
    "data_scaled = pd.DataFrame(data_scaled, columns=df.columns)\n",
    "\n",
    "plt.figure(figsize=(10, 7))  \n",
    "plt.title(\"Rescaled Distance Cluster Combined\")\n",
    "\n",
    "dend = shc.dendrogram(shc.linkage(data_scaled, method='ward'))\n",
    "plt.axhline(y=.38, color='r', linestyle='--')\n",
    "plt.show()"
   ]
  },
  {
   "cell_type": "code",
   "execution_count": 30,
   "id": "dca3f801",
   "metadata": {},
   "outputs": [],
   "source": [
    "import seaborn as sns"
   ]
  },
  {
   "cell_type": "code",
   "execution_count": 31,
   "id": "ad2c453d",
   "metadata": {},
   "outputs": [
    {
     "data": {
      "text/plain": [
       "<seaborn.matrix.ClusterGrid at 0x7f1a34324730>"
      ]
     },
     "execution_count": 31,
     "metadata": {},
     "output_type": "execute_result"
    },
    {
     "data": {
      "image/png": "[encoded data removed]",
      "text/plain": [
       "<Figure size 720x720 with 4 Axes>"
      ]
     },
     "metadata": {
      "needs_background": "light"
     },
     "output_type": "display_data"
    }
   ],
   "source": [
    "sns.clustermap(data_scaled)"
   ]
  },
  {
   "cell_type": "code",
   "execution_count": 35,
   "id": "8b31ebea",
   "metadata": {},
   "outputs": [
    {
     "data": {
      "text/plain": [
       "<seaborn.matrix.ClusterGrid at 0x7f1a3147dd90>"
      ]
     },
     "execution_count": 35,
     "metadata": {},
     "output_type": "execute_result"
    },
    {
     "data": {
      "image/png": "[encoded data removed]",
      "text/plain": [
       "<Figure size 720x720 with 4 Axes>"
      ]
     },
     "metadata": {
      "needs_background": "light"
     },
     "output_type": "display_data"
    }
   ],
   "source": [
    "sns.clustermap(data_scaled, method= \"ward\", cmap=\"rocket\")"
   ]
  },
  {
   "cell_type": "code",
   "execution_count": 37,
   "id": "c37b93b8",
   "metadata": {},
   "outputs": [
    {
     "data": {
      "text/plain": [
       "<seaborn.matrix.ClusterGrid at 0x7f1a311c76d0>"
      ]
     },
     "execution_count": 37,
     "metadata": {},
     "output_type": "execute_result"
    },
    {
     "data": {
      "image/png": "[encoded data removed]",
      "text/plain": [
       "<Figure size 720x720 with 4 Axes>"
      ]
     },
     "metadata": {
      "needs_background": "light"
     },
     "output_type": "display_data"
    }
   ],
   "source": [
    "sns.clustermap(data_scaled, method= \"ward\", cmap=\"YlOrBr\")"
   ]
  },
  {
   "cell_type": "code",
   "execution_count": 38,
   "id": "47431061",
   "metadata": {},
   "outputs": [
    {
     "data": {
      "text/plain": [
       "<seaborn.matrix.ClusterGrid at 0x7f1a3103bd60>"
      ]
     },
     "execution_count": 38,
     "metadata": {},
     "output_type": "execute_result"
    },
    {
     "data": {
      "image/png": "[encoded data removed]",
      "text/plain": [
       "<Figure size 720x720 with 4 Axes>"
      ]
     },
     "metadata": {
      "needs_background": "light"
     },
     "output_type": "display_data"
    }
   ],
   "source": [
    "sns.clustermap(data_scaled, method= \"ward\", cmap=\"magma\")"
   ]
  },
  {
   "cell_type": "code",
   "execution_count": 43,
   "id": "940e6497",
   "metadata": {},
   "outputs": [
    {
     "data": {
      "text/plain": [
       "Index(['Temperature', 'pH', 'EC', 'TSS', 'Turbidity', 'Salinity', 'TDS', 'DO',\n",
       "       'COD', 'NH4+', 'NO3', 'Phosphate', 'Sulfates', 'K', 'Ca', 'Mg', 'Cl',\n",
       "       'Br', 'Cd', 'Cr', 'Ni', 'Cu', 'Zn', 'Mn', 'Hg', 'As', 'Pb', 'THB', 'TC',\n",
       "       'FC', 'FS', 'Vibrio C', 'E Coli'],\n",
       "      dtype='object')"
      ]
     },
     "execution_count": 43,
     "metadata": {},
     "output_type": "execute_result"
    }
   ],
   "source": [
    "cols = df.columns\n",
    "cols"
   ]
  },
  {
   "cell_type": "code",
   "execution_count": 44,
   "id": "0727001c",
   "metadata": {},
   "outputs": [],
   "source": [
    "new_cols = ['Temperature', 'pH', 'EC', 'TSS', 'Turbidity', 'Salinity', 'TDS', 'DO',\n",
    "       'COD', 'Ammonium', 'Nitrate', 'Phosphate', 'Sulfates', 'Potassium', 'Calcium', 'Magnesium', 'Chloride',\n",
    "       'Bromine', 'Cadmium', 'Chromium', 'Nickel', 'Copper', 'Zinc', 'Manganese', 'Mercury', 'Arsenic', 'Lead', 'THB', 'TC',\n",
    "       'FC', 'FS', 'Vibrio C', 'E Coli']"
   ]
  },
  {
   "cell_type": "code",
   "execution_count": 45,
   "id": "c143a51e",
   "metadata": {},
   "outputs": [
    {
     "data": {
      "text/html": [
       "<div>\n",
       "<style scoped>\n",
       "    .dataframe tbody tr th:only-of-type {\n",
       "        vertical-align: middle;\n",
       "    }\n",
       "\n",
       "    .dataframe tbody tr th {\n",
       "        vertical-align: top;\n",
       "    }\n",
       "\n",
       "    .dataframe thead th {\n",
       "        text-align: right;\n",
       "    }\n",
       "</style>\n",
       "<table border=\"1\" class=\"dataframe\">\n",
       "  <thead>\n",
       "    <tr style=\"text-align: right;\">\n",
       "      <th></th>\n",
       "      <th>Temperature</th>\n",
       "      <th>pH</th>\n",
       "      <th>EC</th>\n",
       "      <th>TSS</th>\n",
       "      <th>Turbidity</th>\n",
       "      <th>Salinity</th>\n",
       "      <th>TDS</th>\n",
       "      <th>DO</th>\n",
       "      <th>COD</th>\n",
       "      <th>Ammonium</th>\n",
       "      <th>...</th>\n",
       "      <th>Manganese</th>\n",
       "      <th>Mercury</th>\n",
       "      <th>Arsenic</th>\n",
       "      <th>Lead</th>\n",
       "      <th>THB</th>\n",
       "      <th>TC</th>\n",
       "      <th>FC</th>\n",
       "      <th>FS</th>\n",
       "      <th>Vibrio C</th>\n",
       "      <th>E Coli</th>\n",
       "    </tr>\n",
       "  </thead>\n",
       "  <tbody>\n",
       "    <tr>\n",
       "      <th>0</th>\n",
       "      <td>30.4</td>\n",
       "      <td>6.17</td>\n",
       "      <td>1790</td>\n",
       "      <td>309</td>\n",
       "      <td>108</td>\n",
       "      <td>639</td>\n",
       "      <td>852</td>\n",
       "      <td>0.96</td>\n",
       "      <td>700</td>\n",
       "      <td>2.9</td>\n",
       "      <td>...</td>\n",
       "      <td>0.995</td>\n",
       "      <td>0.009</td>\n",
       "      <td>0.109</td>\n",
       "      <td>0.188</td>\n",
       "      <td>10.25</td>\n",
       "      <td>230</td>\n",
       "      <td>56</td>\n",
       "      <td>83</td>\n",
       "      <td>16.21</td>\n",
       "      <td>18</td>\n",
       "    </tr>\n",
       "    <tr>\n",
       "      <th>1</th>\n",
       "      <td>30.7</td>\n",
       "      <td>5.89</td>\n",
       "      <td>1453</td>\n",
       "      <td>322</td>\n",
       "      <td>126</td>\n",
       "      <td>702</td>\n",
       "      <td>1208</td>\n",
       "      <td>0.73</td>\n",
       "      <td>718</td>\n",
       "      <td>2.8</td>\n",
       "      <td>...</td>\n",
       "      <td>1.178</td>\n",
       "      <td>0.027</td>\n",
       "      <td>0.102</td>\n",
       "      <td>0.452</td>\n",
       "      <td>18.87</td>\n",
       "      <td>270</td>\n",
       "      <td>216</td>\n",
       "      <td>88</td>\n",
       "      <td>18.96</td>\n",
       "      <td>70</td>\n",
       "    </tr>\n",
       "    <tr>\n",
       "      <th>2</th>\n",
       "      <td>32.7</td>\n",
       "      <td>5.02</td>\n",
       "      <td>2047</td>\n",
       "      <td>434</td>\n",
       "      <td>174</td>\n",
       "      <td>730</td>\n",
       "      <td>783</td>\n",
       "      <td>0.15</td>\n",
       "      <td>870</td>\n",
       "      <td>7.6</td>\n",
       "      <td>...</td>\n",
       "      <td>1.073</td>\n",
       "      <td>0.108</td>\n",
       "      <td>0.063</td>\n",
       "      <td>0.337</td>\n",
       "      <td>23.63</td>\n",
       "      <td>420</td>\n",
       "      <td>394</td>\n",
       "      <td>121</td>\n",
       "      <td>23.74</td>\n",
       "      <td>81</td>\n",
       "    </tr>\n",
       "    <tr>\n",
       "      <th>3</th>\n",
       "      <td>32.8</td>\n",
       "      <td>4.37</td>\n",
       "      <td>538</td>\n",
       "      <td>461</td>\n",
       "      <td>162</td>\n",
       "      <td>360</td>\n",
       "      <td>1790</td>\n",
       "      <td>0.12</td>\n",
       "      <td>912</td>\n",
       "      <td>8.2</td>\n",
       "      <td>...</td>\n",
       "      <td>3.450</td>\n",
       "      <td>0.176</td>\n",
       "      <td>0.098</td>\n",
       "      <td>1.836</td>\n",
       "      <td>33.79</td>\n",
       "      <td>440</td>\n",
       "      <td>349</td>\n",
       "      <td>100</td>\n",
       "      <td>24.58</td>\n",
       "      <td>79</td>\n",
       "    </tr>\n",
       "    <tr>\n",
       "      <th>4</th>\n",
       "      <td>29.5</td>\n",
       "      <td>6.59</td>\n",
       "      <td>692</td>\n",
       "      <td>178</td>\n",
       "      <td>82</td>\n",
       "      <td>244</td>\n",
       "      <td>825</td>\n",
       "      <td>1.10</td>\n",
       "      <td>655</td>\n",
       "      <td>3.0</td>\n",
       "      <td>...</td>\n",
       "      <td>1.002</td>\n",
       "      <td>0.093</td>\n",
       "      <td>0.057</td>\n",
       "      <td>0.119</td>\n",
       "      <td>8.22</td>\n",
       "      <td>190</td>\n",
       "      <td>199</td>\n",
       "      <td>87</td>\n",
       "      <td>15.43</td>\n",
       "      <td>13</td>\n",
       "    </tr>\n",
       "  </tbody>\n",
       "</table>\n",
       "<p>5 rows × 33 columns</p>\n",
       "</div>"
      ],
      "text/plain": [
       "   Temperature    pH    EC  TSS  Turbidity  Salinity   TDS    DO  COD  \\\n",
       "0         30.4  6.17  1790  309        108       639   852  0.96  700   \n",
       "1         30.7  5.89  1453  322        126       702  1208  0.73  718   \n",
       "2         32.7  5.02  2047  434        174       730   783  0.15  870   \n",
       "3         32.8  4.37   538  461        162       360  1790  0.12  912   \n",
       "4         29.5  6.59   692  178         82       244   825  1.10  655   \n",
       "\n",
       "   Ammonium  ...  Manganese  Mercury  Arsenic   Lead    THB   TC   FC   FS  \\\n",
       "0       2.9  ...      0.995    0.009    0.109  0.188  10.25  230   56   83   \n",
       "1       2.8  ...      1.178    0.027    0.102  0.452  18.87  270  216   88   \n",
       "2       7.6  ...      1.073    0.108    0.063  0.337  23.63  420  394  121   \n",
       "3       8.2  ...      3.450    0.176    0.098  1.836  33.79  440  349  100   \n",
       "4       3.0  ...      1.002    0.093    0.057  0.119   8.22  190  199   87   \n",
       "\n",
       "   Vibrio C  E Coli  \n",
       "0     16.21      18  \n",
       "1     18.96      70  \n",
       "2     23.74      81  \n",
       "3     24.58      79  \n",
       "4     15.43      13  \n",
       "\n",
       "[5 rows x 33 columns]"
      ]
     },
     "execution_count": 45,
     "metadata": {},
     "output_type": "execute_result"
    }
   ],
   "source": [
    "df.columns = new_cols\n",
    "df.head()"
   ]
  },
  {
   "cell_type": "code",
   "execution_count": null,
   "id": "470ab056",
   "metadata": {},
   "outputs": [],
   "source": []
  },
  {
   "cell_type": "code",
   "execution_count": 47,
   "id": "1a13c874",
   "metadata": {},
   "outputs": [],
   "source": [
    "summer = pd.read_csv(\"data/summer_data_all_param.csv\")\n",
    "winter = pd.read_csv(\"data/winter_data_all_param.csv\")"
   ]
  },
  {
   "cell_type": "code",
   "execution_count": 49,
   "id": "073226c9",
   "metadata": {},
   "outputs": [],
   "source": [
    "summer.drop(columns=[\"Unnamed: 0\", \"SamplingPoint\"], inplace=True)\n",
    "winter.drop(columns=[\"Unnamed: 0\", \"SamplingPoint\"], inplace=True)"
   ]
  },
  {
   "cell_type": "code",
   "execution_count": 50,
   "id": "7e9e5b26",
   "metadata": {},
   "outputs": [
    {
     "data": {
      "text/plain": [
       "Index(['Temperature', 'pH', 'EC', 'TSS', 'Turbidity', 'Salinity', 'TDS', 'DO',\n",
       "       'COD', 'NH4+', 'NO3', 'Phosphate', 'Sulfates', 'K', 'Ca', 'Mg', 'Cl',\n",
       "       'Br', 'Cd', 'Cr', 'Ni', 'Cu', 'Zn', 'Mn', 'Hg', 'As', 'Pb', 'THB', 'TC',\n",
       "       'FC', 'FS', 'Vibrio C', 'E Coli'],\n",
       "      dtype='object')"
      ]
     },
     "execution_count": 50,
     "metadata": {},
     "output_type": "execute_result"
    }
   ],
   "source": [
    "summer.columns"
   ]
  },
  {
   "cell_type": "code",
   "execution_count": 51,
   "id": "78c9a00a",
   "metadata": {},
   "outputs": [],
   "source": [
    "summer.columns = new_cols\n",
    "winter.columns = new_cols"
   ]
  },
  {
   "cell_type": "code",
   "execution_count": 52,
   "id": "70fda2db",
   "metadata": {},
   "outputs": [
    {
     "data": {
      "text/plain": [
       "Index(['Temperature', 'pH', 'EC', 'TSS', 'Turbidity', 'Salinity', 'TDS', 'DO',\n",
       "       'COD', 'Ammonium', 'Nitrate', 'Phosphate', 'Sulfates', 'Potassium',\n",
       "       'Calcium', 'Magnesium', 'Chloride', 'Bromine', 'Cadmium', 'Chromium',\n",
       "       'Nickel', 'Copper', 'Zinc', 'Manganese', 'Mercury', 'Arsenic', 'Lead',\n",
       "       'THB', 'TC', 'FC', 'FS', 'Vibrio C', 'E Coli'],\n",
       "      dtype='object')"
      ]
     },
     "execution_count": 52,
     "metadata": {},
     "output_type": "execute_result"
    }
   ],
   "source": [
    "summer.columns"
   ]
  },
  {
   "cell_type": "code",
   "execution_count": 53,
   "id": "7bdaa270",
   "metadata": {},
   "outputs": [],
   "source": [
    "summer.to_csv(\"data/all_param_full_form_summer.csv\")\n",
    "winter.to_csv(\"data/all_param_full_form_winter.csv\")"
   ]
  },
  {
   "cell_type": "code",
   "execution_count": 54,
   "id": "94e1e89c",
   "metadata": {},
   "outputs": [],
   "source": [
    "average = (summer + winter) / 2"
   ]
  },
  {
   "cell_type": "code",
   "execution_count": 55,
   "id": "3b711d6b",
   "metadata": {},
   "outputs": [
    {
     "data": {
      "text/html": [
       "<div>\n",
       "<style scoped>\n",
       "    .dataframe tbody tr th:only-of-type {\n",
       "        vertical-align: middle;\n",
       "    }\n",
       "\n",
       "    .dataframe tbody tr th {\n",
       "        vertical-align: top;\n",
       "    }\n",
       "\n",
       "    .dataframe thead th {\n",
       "        text-align: right;\n",
       "    }\n",
       "</style>\n",
       "<table border=\"1\" class=\"dataframe\">\n",
       "  <thead>\n",
       "    <tr style=\"text-align: right;\">\n",
       "      <th></th>\n",
       "      <th>Temperature</th>\n",
       "      <th>pH</th>\n",
       "      <th>EC</th>\n",
       "      <th>TSS</th>\n",
       "      <th>Turbidity</th>\n",
       "      <th>Salinity</th>\n",
       "      <th>TDS</th>\n",
       "      <th>DO</th>\n",
       "      <th>COD</th>\n",
       "      <th>Ammonium</th>\n",
       "      <th>...</th>\n",
       "      <th>Manganese</th>\n",
       "      <th>Mercury</th>\n",
       "      <th>Arsenic</th>\n",
       "      <th>Lead</th>\n",
       "      <th>THB</th>\n",
       "      <th>TC</th>\n",
       "      <th>FC</th>\n",
       "      <th>FS</th>\n",
       "      <th>Vibrio C</th>\n",
       "      <th>E Coli</th>\n",
       "    </tr>\n",
       "  </thead>\n",
       "  <tbody>\n",
       "    <tr>\n",
       "      <th>0</th>\n",
       "      <td>27.70</td>\n",
       "      <td>7.210</td>\n",
       "      <td>1630.0</td>\n",
       "      <td>249.5</td>\n",
       "      <td>83.80</td>\n",
       "      <td>662.0</td>\n",
       "      <td>815.0</td>\n",
       "      <td>1.390</td>\n",
       "      <td>447.5</td>\n",
       "      <td>2.75</td>\n",
       "      <td>...</td>\n",
       "      <td>1.0395</td>\n",
       "      <td>0.0115</td>\n",
       "      <td>0.1500</td>\n",
       "      <td>0.2820</td>\n",
       "      <td>9.305</td>\n",
       "      <td>215.0</td>\n",
       "      <td>107.0</td>\n",
       "      <td>76.0</td>\n",
       "      <td>13.245</td>\n",
       "      <td>15.0</td>\n",
       "    </tr>\n",
       "    <tr>\n",
       "      <th>1</th>\n",
       "      <td>27.70</td>\n",
       "      <td>7.140</td>\n",
       "      <td>1523.0</td>\n",
       "      <td>239.0</td>\n",
       "      <td>102.30</td>\n",
       "      <td>704.0</td>\n",
       "      <td>1060.0</td>\n",
       "      <td>1.050</td>\n",
       "      <td>485.0</td>\n",
       "      <td>3.00</td>\n",
       "      <td>...</td>\n",
       "      <td>1.1880</td>\n",
       "      <td>0.0315</td>\n",
       "      <td>0.1290</td>\n",
       "      <td>0.4235</td>\n",
       "      <td>17.430</td>\n",
       "      <td>255.0</td>\n",
       "      <td>214.5</td>\n",
       "      <td>94.0</td>\n",
       "      <td>15.815</td>\n",
       "      <td>64.0</td>\n",
       "    </tr>\n",
       "    <tr>\n",
       "      <th>2</th>\n",
       "      <td>28.95</td>\n",
       "      <td>6.565</td>\n",
       "      <td>1851.5</td>\n",
       "      <td>288.0</td>\n",
       "      <td>129.65</td>\n",
       "      <td>686.0</td>\n",
       "      <td>884.5</td>\n",
       "      <td>0.145</td>\n",
       "      <td>681.5</td>\n",
       "      <td>7.80</td>\n",
       "      <td>...</td>\n",
       "      <td>1.1255</td>\n",
       "      <td>0.0945</td>\n",
       "      <td>0.0790</td>\n",
       "      <td>0.3890</td>\n",
       "      <td>22.790</td>\n",
       "      <td>405.0</td>\n",
       "      <td>342.0</td>\n",
       "      <td>99.0</td>\n",
       "      <td>20.070</td>\n",
       "      <td>75.0</td>\n",
       "    </tr>\n",
       "    <tr>\n",
       "      <th>3</th>\n",
       "      <td>29.10</td>\n",
       "      <td>5.085</td>\n",
       "      <td>652.5</td>\n",
       "      <td>409.0</td>\n",
       "      <td>105.45</td>\n",
       "      <td>311.0</td>\n",
       "      <td>1892.5</td>\n",
       "      <td>0.110</td>\n",
       "      <td>797.5</td>\n",
       "      <td>8.80</td>\n",
       "      <td>...</td>\n",
       "      <td>3.6205</td>\n",
       "      <td>0.1500</td>\n",
       "      <td>0.1000</td>\n",
       "      <td>1.6120</td>\n",
       "      <td>32.745</td>\n",
       "      <td>425.0</td>\n",
       "      <td>359.5</td>\n",
       "      <td>90.0</td>\n",
       "      <td>21.745</td>\n",
       "      <td>74.5</td>\n",
       "    </tr>\n",
       "    <tr>\n",
       "      <th>4</th>\n",
       "      <td>26.65</td>\n",
       "      <td>7.760</td>\n",
       "      <td>740.0</td>\n",
       "      <td>195.5</td>\n",
       "      <td>55.40</td>\n",
       "      <td>307.0</td>\n",
       "      <td>1163.5</td>\n",
       "      <td>1.610</td>\n",
       "      <td>422.0</td>\n",
       "      <td>2.55</td>\n",
       "      <td>...</td>\n",
       "      <td>1.0510</td>\n",
       "      <td>0.0475</td>\n",
       "      <td>0.0680</td>\n",
       "      <td>0.2175</td>\n",
       "      <td>7.180</td>\n",
       "      <td>175.0</td>\n",
       "      <td>159.5</td>\n",
       "      <td>98.5</td>\n",
       "      <td>11.975</td>\n",
       "      <td>9.5</td>\n",
       "    </tr>\n",
       "    <tr>\n",
       "      <th>5</th>\n",
       "      <td>28.65</td>\n",
       "      <td>6.730</td>\n",
       "      <td>1534.0</td>\n",
       "      <td>308.0</td>\n",
       "      <td>59.25</td>\n",
       "      <td>821.0</td>\n",
       "      <td>1997.5</td>\n",
       "      <td>0.680</td>\n",
       "      <td>522.5</td>\n",
       "      <td>5.75</td>\n",
       "      <td>...</td>\n",
       "      <td>0.9350</td>\n",
       "      <td>0.0130</td>\n",
       "      <td>0.0680</td>\n",
       "      <td>0.2360</td>\n",
       "      <td>18.205</td>\n",
       "      <td>357.5</td>\n",
       "      <td>292.5</td>\n",
       "      <td>85.0</td>\n",
       "      <td>18.770</td>\n",
       "      <td>70.0</td>\n",
       "    </tr>\n",
       "    <tr>\n",
       "      <th>6</th>\n",
       "      <td>27.15</td>\n",
       "      <td>7.700</td>\n",
       "      <td>1911.5</td>\n",
       "      <td>350.0</td>\n",
       "      <td>73.95</td>\n",
       "      <td>1015.0</td>\n",
       "      <td>2095.5</td>\n",
       "      <td>1.555</td>\n",
       "      <td>505.0</td>\n",
       "      <td>3.40</td>\n",
       "      <td>...</td>\n",
       "      <td>3.1845</td>\n",
       "      <td>0.0905</td>\n",
       "      <td>0.1050</td>\n",
       "      <td>1.0120</td>\n",
       "      <td>11.495</td>\n",
       "      <td>207.5</td>\n",
       "      <td>139.0</td>\n",
       "      <td>61.0</td>\n",
       "      <td>14.055</td>\n",
       "      <td>36.0</td>\n",
       "    </tr>\n",
       "    <tr>\n",
       "      <th>7</th>\n",
       "      <td>29.40</td>\n",
       "      <td>4.830</td>\n",
       "      <td>1827.5</td>\n",
       "      <td>464.5</td>\n",
       "      <td>151.20</td>\n",
       "      <td>682.0</td>\n",
       "      <td>2392.0</td>\n",
       "      <td>0.000</td>\n",
       "      <td>998.0</td>\n",
       "      <td>10.80</td>\n",
       "      <td>...</td>\n",
       "      <td>2.7175</td>\n",
       "      <td>0.1960</td>\n",
       "      <td>0.1340</td>\n",
       "      <td>2.0615</td>\n",
       "      <td>36.490</td>\n",
       "      <td>772.5</td>\n",
       "      <td>605.5</td>\n",
       "      <td>151.0</td>\n",
       "      <td>22.360</td>\n",
       "      <td>135.5</td>\n",
       "    </tr>\n",
       "    <tr>\n",
       "      <th>8</th>\n",
       "      <td>28.80</td>\n",
       "      <td>6.670</td>\n",
       "      <td>2526.0</td>\n",
       "      <td>343.5</td>\n",
       "      <td>118.75</td>\n",
       "      <td>1356.0</td>\n",
       "      <td>1822.5</td>\n",
       "      <td>0.200</td>\n",
       "      <td>730.5</td>\n",
       "      <td>9.35</td>\n",
       "      <td>...</td>\n",
       "      <td>1.1795</td>\n",
       "      <td>0.1525</td>\n",
       "      <td>0.0605</td>\n",
       "      <td>1.0140</td>\n",
       "      <td>28.505</td>\n",
       "      <td>444.0</td>\n",
       "      <td>417.5</td>\n",
       "      <td>114.5</td>\n",
       "      <td>19.710</td>\n",
       "      <td>71.5</td>\n",
       "    </tr>\n",
       "  </tbody>\n",
       "</table>\n",
       "<p>9 rows × 33 columns</p>\n",
       "</div>"
      ],
      "text/plain": [
       "   Temperature     pH      EC    TSS  Turbidity  Salinity     TDS     DO  \\\n",
       "0        27.70  7.210  1630.0  249.5      83.80     662.0   815.0  1.390   \n",
       "1        27.70  7.140  1523.0  239.0     102.30     704.0  1060.0  1.050   \n",
       "2        28.95  6.565  1851.5  288.0     129.65     686.0   884.5  0.145   \n",
       "3        29.10  5.085   652.5  409.0     105.45     311.0  1892.5  0.110   \n",
       "4        26.65  7.760   740.0  195.5      55.40     307.0  1163.5  1.610   \n",
       "5        28.65  6.730  1534.0  308.0      59.25     821.0  1997.5  0.680   \n",
       "6        27.15  7.700  1911.5  350.0      73.95    1015.0  2095.5  1.555   \n",
       "7        29.40  4.830  1827.5  464.5     151.20     682.0  2392.0  0.000   \n",
       "8        28.80  6.670  2526.0  343.5     118.75    1356.0  1822.5  0.200   \n",
       "\n",
       "     COD  Ammonium  ...  Manganese  Mercury  Arsenic    Lead     THB     TC  \\\n",
       "0  447.5      2.75  ...     1.0395   0.0115   0.1500  0.2820   9.305  215.0   \n",
       "1  485.0      3.00  ...     1.1880   0.0315   0.1290  0.4235  17.430  255.0   \n",
       "2  681.5      7.80  ...     1.1255   0.0945   0.0790  0.3890  22.790  405.0   \n",
       "3  797.5      8.80  ...     3.6205   0.1500   0.1000  1.6120  32.745  425.0   \n",
       "4  422.0      2.55  ...     1.0510   0.0475   0.0680  0.2175   7.180  175.0   \n",
       "5  522.5      5.75  ...     0.9350   0.0130   0.0680  0.2360  18.205  357.5   \n",
       "6  505.0      3.40  ...     3.1845   0.0905   0.1050  1.0120  11.495  207.5   \n",
       "7  998.0     10.80  ...     2.7175   0.1960   0.1340  2.0615  36.490  772.5   \n",
       "8  730.5      9.35  ...     1.1795   0.1525   0.0605  1.0140  28.505  444.0   \n",
       "\n",
       "      FC     FS  Vibrio C  E Coli  \n",
       "0  107.0   76.0    13.245    15.0  \n",
       "1  214.5   94.0    15.815    64.0  \n",
       "2  342.0   99.0    20.070    75.0  \n",
       "3  359.5   90.0    21.745    74.5  \n",
       "4  159.5   98.5    11.975     9.5  \n",
       "5  292.5   85.0    18.770    70.0  \n",
       "6  139.0   61.0    14.055    36.0  \n",
       "7  605.5  151.0    22.360   135.5  \n",
       "8  417.5  114.5    19.710    71.5  \n",
       "\n",
       "[9 rows x 33 columns]"
      ]
     },
     "execution_count": 55,
     "metadata": {},
     "output_type": "execute_result"
    }
   ],
   "source": [
    "average"
   ]
  },
  {
   "cell_type": "code",
   "execution_count": 56,
   "id": "e1be21cf",
   "metadata": {},
   "outputs": [
    {
     "data": {
      "text/plain": [
       "0    27.70\n",
       "1    27.70\n",
       "2    28.95\n",
       "3    29.10\n",
       "4    26.65\n",
       "5    28.65\n",
       "6    27.15\n",
       "7    29.40\n",
       "8    28.80\n",
       "Name: Temperature, dtype: float64"
      ]
     },
     "execution_count": 56,
     "metadata": {},
     "output_type": "execute_result"
    }
   ],
   "source": [
    "(summer[\"Temperature\"] + winter[\"Temperature\"])/2"
   ]
  },
  {
   "cell_type": "code",
   "execution_count": 57,
   "id": "5fcc9e51",
   "metadata": {},
   "outputs": [
    {
     "data": {
      "text/plain": [
       "0     815.0\n",
       "1    1060.0\n",
       "2     884.5\n",
       "3    1892.5\n",
       "4    1163.5\n",
       "5    1997.5\n",
       "6    2095.5\n",
       "7    2392.0\n",
       "8    1822.5\n",
       "Name: TDS, dtype: float64"
      ]
     },
     "execution_count": 57,
     "metadata": {},
     "output_type": "execute_result"
    }
   ],
   "source": [
    "(summer[\"TDS\"] + winter[\"TDS\"])/2"
   ]
  },
  {
   "cell_type": "code",
   "execution_count": 58,
   "id": "6bef8e39",
   "metadata": {},
   "outputs": [],
   "source": [
    "average.to_csv(\"data/summer_winter_average.csv\")"
   ]
  },
  {
   "cell_type": "code",
   "execution_count": 59,
   "id": "3799a0cb",
   "metadata": {},
   "outputs": [
    {
     "data": {
      "text/plain": [
       "<seaborn.matrix.ClusterGrid at 0x7f1a30e34eb0>"
      ]
     },
     "execution_count": 59,
     "metadata": {},
     "output_type": "execute_result"
    },
    {
     "data": {
      "image/png": "[encoded data removed]",
      "text/plain": [
       "<Figure size 720x720 with 4 Axes>"
      ]
     },
     "metadata": {
      "needs_background": "light"
     },
     "output_type": "display_data"
    }
   ],
   "source": [
    "data_scaled = normalize(average)\n",
    "data_scaled = pd.DataFrame(data_scaled, columns=average.columns)\n",
    "\n",
    "sns.clustermap(data_scaled, method= \"ward\", cmap=\"magma\")"
   ]
  },
  {
   "cell_type": "code",
   "execution_count": 74,
   "id": "0632fe0c",
   "metadata": {},
   "outputs": [
    {
     "data": {
      "image/png": "[encoded data removed]",
      "text/plain": [
       "<Figure size 720x720 with 4 Axes>"
      ]
     },
     "metadata": {
      "needs_background": "light"
     },
     "output_type": "display_data"
    }
   ],
   "source": [
    "import scipy.cluster.hierarchy as shc\n",
    "from sklearn.preprocessing import normalize\n",
    "import pandas as pd\n",
    "import matplotlib.pyplot as plt\n",
    "import seaborn as sns\n",
    "\n",
    "\n",
    "df = pd.read_csv(\"data/summer_winter_average.csv\")\n",
    "df.drop(columns=\"Unnamed: 0\", inplace=True)\n",
    "data_scaled = normalize(df)\n",
    "data_scaled = pd.DataFrame(data_scaled, columns=df.columns)\n",
    "\n",
    "sns.clustermap(data_scaled, method= \"ward\", cmap=\"magma\")\n",
    "plt.show()"
   ]
  },
  {
   "cell_type": "code",
   "execution_count": 75,
   "id": "0fcd853e",
   "metadata": {},
   "outputs": [
    {
     "data": {
      "image/png": "[encoded data removed]",
      "text/plain": [
       "<Figure size 720x720 with 4 Axes>"
      ]
     },
     "metadata": {
      "needs_background": "light"
     },
     "output_type": "display_data"
    }
   ],
   "source": [
    "import scipy.cluster.hierarchy as shc\n",
    "from sklearn.preprocessing import normalize\n",
    "import pandas as pd\n",
    "import matplotlib.pyplot as plt\n",
    "import seaborn as sns\n",
    "\n",
    "\n",
    "df = pd.read_csv(\"data/summer_winter_average.csv\")\n",
    "data_scaled = normalize(df)\n",
    "data_scaled = pd.DataFrame(data_scaled, columns=df.columns)\n",
    "\n",
    "\n",
    "\n",
    "sns.clustermap(data_scaled, method= \"ward\", cmap=\"YlOrBr\")\n",
    "plt.show()"
   ]
  },
  {
   "cell_type": "code",
   "execution_count": 76,
   "id": "70c3a382",
   "metadata": {},
   "outputs": [
    {
     "data": {
      "image/png": "[encoded data removed]",
      "text/plain": [
       "<Figure size 720x720 with 4 Axes>"
      ]
     },
     "metadata": {
      "needs_background": "light"
     },
     "output_type": "display_data"
    }
   ],
   "source": [
    "import scipy.cluster.hierarchy as shc\n",
    "from sklearn.preprocessing import normalize\n",
    "import pandas as pd\n",
    "import matplotlib.pyplot as plt\n",
    "import seaborn as sns\n",
    "\n",
    "\n",
    "df = pd.read_csv(\"data/summer_winter_average.csv\")\n",
    "df.drop(columns=\"Unnamed: 0\", inplace=True)\n",
    "data_scaled = normalize(df)\n",
    "data_scaled = pd.DataFrame(data_scaled, columns=df.columns)\n",
    "\n",
    "\n",
    "\n",
    "sns.clustermap(data_scaled, method= \"ward\", cmap=\"flare\")\n",
    "plt.show()"
   ]
  },
  {
   "cell_type": "code",
   "execution_count": 77,
   "id": "364e3027",
   "metadata": {},
   "outputs": [
    {
     "data": {
      "image/png": "[encoded data removed]",
      "text/plain": [
       "<Figure size 720x720 with 4 Axes>"
      ]
     },
     "metadata": {
      "needs_background": "light"
     },
     "output_type": "display_data"
    }
   ],
   "source": [
    "import scipy.cluster.hierarchy as shc\n",
    "from sklearn.preprocessing import normalize\n",
    "import pandas as pd\n",
    "import matplotlib.pyplot as plt\n",
    "import seaborn as sns\n",
    "\n",
    "\n",
    "df = pd.read_csv(\"data/summer_winter_average.csv\")\n",
    "df.drop(columns=\"Unnamed: 0\", inplace=True)\n",
    "data_scaled = normalize(df)\n",
    "data_scaled = pd.DataFrame(data_scaled, columns=df.columns)\n",
    "\n",
    "\n",
    "\n",
    "sns.clustermap(data_scaled, method= \"ward\", cmap=\"crest\")\n",
    "plt.show()"
   ]
  },
  {
   "cell_type": "code",
   "execution_count": 64,
   "id": "8d34b33a",
   "metadata": {},
   "outputs": [
    {
     "data": {
      "image/png": "[encoded data removed]",
      "text/plain": [
       "<Figure size 720x720 with 4 Axes>"
      ]
     },
     "metadata": {
      "needs_background": "light"
     },
     "output_type": "display_data"
    }
   ],
   "source": [
    "import scipy.cluster.hierarchy as shc\n",
    "from sklearn.preprocessing import normalize\n",
    "import pandas as pd\n",
    "import matplotlib.pyplot as plt\n",
    "import seaborn as sns\n",
    "\n",
    "\n",
    "df = pd.read_csv(\"data/summer_winter_average.csv\")\n",
    "df.drop(columns=\"Unnamed: 0\", inplace=True)\n",
    "data_scaled = normalize(df)\n",
    "data_scaled = pd.DataFrame(data_scaled, columns=df.columns)\n",
    "\n",
    "\n",
    "\n",
    "sns.clustermap(data_scaled, method= \"ward\", cmap=\"viridis\")\n",
    "plt.show()"
   ]
  },
  {
   "cell_type": "code",
   "execution_count": 65,
   "id": "c401cc54",
   "metadata": {},
   "outputs": [
    {
     "data": {
      "image/png": "[encoded data removed]",
      "text/plain": [
       "<Figure size 720x720 with 4 Axes>"
      ]
     },
     "metadata": {
      "needs_background": "light"
     },
     "output_type": "display_data"
    }
   ],
   "source": [
    "import scipy.cluster.hierarchy as shc\n",
    "from sklearn.preprocessing import normalize\n",
    "import pandas as pd\n",
    "import matplotlib.pyplot as plt\n",
    "import seaborn as sns\n",
    "\n",
    "\n",
    "df = pd.read_csv(\"data/summer_winter_average.csv\")\n",
    "df.drop(columns=\"Unnamed: 0\", inplace=True)\n",
    "data_scaled = normalize(df)\n",
    "data_scaled = pd.DataFrame(data_scaled, columns=df.columns)\n",
    "\n",
    "\n",
    "\n",
    "sns.clustermap(data_scaled, method= \"ward\", cmap=\"rocket_r\")\n",
    "plt.show()"
   ]
  },
  {
   "cell_type": "code",
   "execution_count": 73,
   "id": "3c63bd7d",
   "metadata": {},
   "outputs": [
    {
     "data": {
      "text/html": [
       "<div>\n",
       "<style scoped>\n",
       "    .dataframe tbody tr th:only-of-type {\n",
       "        vertical-align: middle;\n",
       "    }\n",
       "\n",
       "    .dataframe tbody tr th {\n",
       "        vertical-align: top;\n",
       "    }\n",
       "\n",
       "    .dataframe thead th {\n",
       "        text-align: right;\n",
       "    }\n",
       "</style>\n",
       "<table border=\"1\" class=\"dataframe\">\n",
       "  <thead>\n",
       "    <tr style=\"text-align: right;\">\n",
       "      <th></th>\n",
       "      <th>Unnamed: 0</th>\n",
       "      <th>Temperature</th>\n",
       "      <th>pH</th>\n",
       "      <th>EC</th>\n",
       "      <th>TSS</th>\n",
       "      <th>Turbidity</th>\n",
       "      <th>Salinity</th>\n",
       "      <th>TDS</th>\n",
       "      <th>DO</th>\n",
       "      <th>COD</th>\n",
       "      <th>...</th>\n",
       "      <th>Manganese</th>\n",
       "      <th>Mercury</th>\n",
       "      <th>Arsenic</th>\n",
       "      <th>Lead</th>\n",
       "      <th>THB</th>\n",
       "      <th>TC</th>\n",
       "      <th>FC</th>\n",
       "      <th>FS</th>\n",
       "      <th>Vibrio C</th>\n",
       "      <th>E Coli</th>\n",
       "    </tr>\n",
       "  </thead>\n",
       "  <tbody>\n",
       "    <tr>\n",
       "      <th>0</th>\n",
       "      <td>0</td>\n",
       "      <td>27.70</td>\n",
       "      <td>7.210</td>\n",
       "      <td>1630.0</td>\n",
       "      <td>249.5</td>\n",
       "      <td>83.80</td>\n",
       "      <td>662.0</td>\n",
       "      <td>815.0</td>\n",
       "      <td>1.390</td>\n",
       "      <td>447.5</td>\n",
       "      <td>...</td>\n",
       "      <td>1.0395</td>\n",
       "      <td>0.0115</td>\n",
       "      <td>0.1500</td>\n",
       "      <td>0.2820</td>\n",
       "      <td>9.305</td>\n",
       "      <td>215.0</td>\n",
       "      <td>107.0</td>\n",
       "      <td>76.0</td>\n",
       "      <td>13.245</td>\n",
       "      <td>15.0</td>\n",
       "    </tr>\n",
       "    <tr>\n",
       "      <th>1</th>\n",
       "      <td>1</td>\n",
       "      <td>27.70</td>\n",
       "      <td>7.140</td>\n",
       "      <td>1523.0</td>\n",
       "      <td>239.0</td>\n",
       "      <td>102.30</td>\n",
       "      <td>704.0</td>\n",
       "      <td>1060.0</td>\n",
       "      <td>1.050</td>\n",
       "      <td>485.0</td>\n",
       "      <td>...</td>\n",
       "      <td>1.1880</td>\n",
       "      <td>0.0315</td>\n",
       "      <td>0.1290</td>\n",
       "      <td>0.4235</td>\n",
       "      <td>17.430</td>\n",
       "      <td>255.0</td>\n",
       "      <td>214.5</td>\n",
       "      <td>94.0</td>\n",
       "      <td>15.815</td>\n",
       "      <td>64.0</td>\n",
       "    </tr>\n",
       "    <tr>\n",
       "      <th>2</th>\n",
       "      <td>2</td>\n",
       "      <td>28.95</td>\n",
       "      <td>6.565</td>\n",
       "      <td>1851.5</td>\n",
       "      <td>288.0</td>\n",
       "      <td>129.65</td>\n",
       "      <td>686.0</td>\n",
       "      <td>884.5</td>\n",
       "      <td>0.145</td>\n",
       "      <td>681.5</td>\n",
       "      <td>...</td>\n",
       "      <td>1.1255</td>\n",
       "      <td>0.0945</td>\n",
       "      <td>0.0790</td>\n",
       "      <td>0.3890</td>\n",
       "      <td>22.790</td>\n",
       "      <td>405.0</td>\n",
       "      <td>342.0</td>\n",
       "      <td>99.0</td>\n",
       "      <td>20.070</td>\n",
       "      <td>75.0</td>\n",
       "    </tr>\n",
       "    <tr>\n",
       "      <th>3</th>\n",
       "      <td>3</td>\n",
       "      <td>29.10</td>\n",
       "      <td>5.085</td>\n",
       "      <td>652.5</td>\n",
       "      <td>409.0</td>\n",
       "      <td>105.45</td>\n",
       "      <td>311.0</td>\n",
       "      <td>1892.5</td>\n",
       "      <td>0.110</td>\n",
       "      <td>797.5</td>\n",
       "      <td>...</td>\n",
       "      <td>3.6205</td>\n",
       "      <td>0.1500</td>\n",
       "      <td>0.1000</td>\n",
       "      <td>1.6120</td>\n",
       "      <td>32.745</td>\n",
       "      <td>425.0</td>\n",
       "      <td>359.5</td>\n",
       "      <td>90.0</td>\n",
       "      <td>21.745</td>\n",
       "      <td>74.5</td>\n",
       "    </tr>\n",
       "    <tr>\n",
       "      <th>4</th>\n",
       "      <td>4</td>\n",
       "      <td>26.65</td>\n",
       "      <td>7.760</td>\n",
       "      <td>740.0</td>\n",
       "      <td>195.5</td>\n",
       "      <td>55.40</td>\n",
       "      <td>307.0</td>\n",
       "      <td>1163.5</td>\n",
       "      <td>1.610</td>\n",
       "      <td>422.0</td>\n",
       "      <td>...</td>\n",
       "      <td>1.0510</td>\n",
       "      <td>0.0475</td>\n",
       "      <td>0.0680</td>\n",
       "      <td>0.2175</td>\n",
       "      <td>7.180</td>\n",
       "      <td>175.0</td>\n",
       "      <td>159.5</td>\n",
       "      <td>98.5</td>\n",
       "      <td>11.975</td>\n",
       "      <td>9.5</td>\n",
       "    </tr>\n",
       "    <tr>\n",
       "      <th>5</th>\n",
       "      <td>5</td>\n",
       "      <td>28.65</td>\n",
       "      <td>6.730</td>\n",
       "      <td>1534.0</td>\n",
       "      <td>308.0</td>\n",
       "      <td>59.25</td>\n",
       "      <td>821.0</td>\n",
       "      <td>1997.5</td>\n",
       "      <td>0.680</td>\n",
       "      <td>522.5</td>\n",
       "      <td>...</td>\n",
       "      <td>0.9350</td>\n",
       "      <td>0.0130</td>\n",
       "      <td>0.0680</td>\n",
       "      <td>0.2360</td>\n",
       "      <td>18.205</td>\n",
       "      <td>357.5</td>\n",
       "      <td>292.5</td>\n",
       "      <td>85.0</td>\n",
       "      <td>18.770</td>\n",
       "      <td>70.0</td>\n",
       "    </tr>\n",
       "    <tr>\n",
       "      <th>6</th>\n",
       "      <td>6</td>\n",
       "      <td>27.15</td>\n",
       "      <td>7.700</td>\n",
       "      <td>1911.5</td>\n",
       "      <td>350.0</td>\n",
       "      <td>73.95</td>\n",
       "      <td>1015.0</td>\n",
       "      <td>2095.5</td>\n",
       "      <td>1.555</td>\n",
       "      <td>505.0</td>\n",
       "      <td>...</td>\n",
       "      <td>3.1845</td>\n",
       "      <td>0.0905</td>\n",
       "      <td>0.1050</td>\n",
       "      <td>1.0120</td>\n",
       "      <td>11.495</td>\n",
       "      <td>207.5</td>\n",
       "      <td>139.0</td>\n",
       "      <td>61.0</td>\n",
       "      <td>14.055</td>\n",
       "      <td>36.0</td>\n",
       "    </tr>\n",
       "    <tr>\n",
       "      <th>7</th>\n",
       "      <td>7</td>\n",
       "      <td>29.40</td>\n",
       "      <td>4.830</td>\n",
       "      <td>1827.5</td>\n",
       "      <td>464.5</td>\n",
       "      <td>151.20</td>\n",
       "      <td>682.0</td>\n",
       "      <td>2392.0</td>\n",
       "      <td>0.000</td>\n",
       "      <td>998.0</td>\n",
       "      <td>...</td>\n",
       "      <td>2.7175</td>\n",
       "      <td>0.1960</td>\n",
       "      <td>0.1340</td>\n",
       "      <td>2.0615</td>\n",
       "      <td>36.490</td>\n",
       "      <td>772.5</td>\n",
       "      <td>605.5</td>\n",
       "      <td>151.0</td>\n",
       "      <td>22.360</td>\n",
       "      <td>135.5</td>\n",
       "    </tr>\n",
       "    <tr>\n",
       "      <th>8</th>\n",
       "      <td>8</td>\n",
       "      <td>28.80</td>\n",
       "      <td>6.670</td>\n",
       "      <td>2526.0</td>\n",
       "      <td>343.5</td>\n",
       "      <td>118.75</td>\n",
       "      <td>1356.0</td>\n",
       "      <td>1822.5</td>\n",
       "      <td>0.200</td>\n",
       "      <td>730.5</td>\n",
       "      <td>...</td>\n",
       "      <td>1.1795</td>\n",
       "      <td>0.1525</td>\n",
       "      <td>0.0605</td>\n",
       "      <td>1.0140</td>\n",
       "      <td>28.505</td>\n",
       "      <td>444.0</td>\n",
       "      <td>417.5</td>\n",
       "      <td>114.5</td>\n",
       "      <td>19.710</td>\n",
       "      <td>71.5</td>\n",
       "    </tr>\n",
       "  </tbody>\n",
       "</table>\n",
       "<p>9 rows × 34 columns</p>\n",
       "</div>"
      ],
      "text/plain": [
       "   Unnamed: 0  Temperature     pH      EC    TSS  Turbidity  Salinity     TDS  \\\n",
       "0           0        27.70  7.210  1630.0  249.5      83.80     662.0   815.0   \n",
       "1           1        27.70  7.140  1523.0  239.0     102.30     704.0  1060.0   \n",
       "2           2        28.95  6.565  1851.5  288.0     129.65     686.0   884.5   \n",
       "3           3        29.10  5.085   652.5  409.0     105.45     311.0  1892.5   \n",
       "4           4        26.65  7.760   740.0  195.5      55.40     307.0  1163.5   \n",
       "5           5        28.65  6.730  1534.0  308.0      59.25     821.0  1997.5   \n",
       "6           6        27.15  7.700  1911.5  350.0      73.95    1015.0  2095.5   \n",
       "7           7        29.40  4.830  1827.5  464.5     151.20     682.0  2392.0   \n",
       "8           8        28.80  6.670  2526.0  343.5     118.75    1356.0  1822.5   \n",
       "\n",
       "      DO    COD  ...  Manganese  Mercury  Arsenic    Lead     THB     TC  \\\n",
       "0  1.390  447.5  ...     1.0395   0.0115   0.1500  0.2820   9.305  215.0   \n",
       "1  1.050  485.0  ...     1.1880   0.0315   0.1290  0.4235  17.430  255.0   \n",
       "2  0.145  681.5  ...     1.1255   0.0945   0.0790  0.3890  22.790  405.0   \n",
       "3  0.110  797.5  ...     3.6205   0.1500   0.1000  1.6120  32.745  425.0   \n",
       "4  1.610  422.0  ...     1.0510   0.0475   0.0680  0.2175   7.180  175.0   \n",
       "5  0.680  522.5  ...     0.9350   0.0130   0.0680  0.2360  18.205  357.5   \n",
       "6  1.555  505.0  ...     3.1845   0.0905   0.1050  1.0120  11.495  207.5   \n",
       "7  0.000  998.0  ...     2.7175   0.1960   0.1340  2.0615  36.490  772.5   \n",
       "8  0.200  730.5  ...     1.1795   0.1525   0.0605  1.0140  28.505  444.0   \n",
       "\n",
       "      FC     FS  Vibrio C  E Coli  \n",
       "0  107.0   76.0    13.245    15.0  \n",
       "1  214.5   94.0    15.815    64.0  \n",
       "2  342.0   99.0    20.070    75.0  \n",
       "3  359.5   90.0    21.745    74.5  \n",
       "4  159.5   98.5    11.975     9.5  \n",
       "5  292.5   85.0    18.770    70.0  \n",
       "6  139.0   61.0    14.055    36.0  \n",
       "7  605.5  151.0    22.360   135.5  \n",
       "8  417.5  114.5    19.710    71.5  \n",
       "\n",
       "[9 rows x 34 columns]"
      ]
     },
     "execution_count": 73,
     "metadata": {},
     "output_type": "execute_result"
    }
   ],
   "source": [
    "df"
   ]
  },
  {
   "cell_type": "code",
   "execution_count": 83,
   "id": "49039e7c",
   "metadata": {},
   "outputs": [
    {
     "data": {
      "text/plain": [
       "['Temperature',\n",
       " 'pH',\n",
       " 'EC',\n",
       " 'TSS',\n",
       " 'Turbidity',\n",
       " 'Salinity',\n",
       " 'TDS',\n",
       " 'DO',\n",
       " 'COD',\n",
       " 'Ammonium',\n",
       " 'Nitrate',\n",
       " 'Phosphate',\n",
       " 'Sulfates',\n",
       " 'Potassium',\n",
       " 'Calcium',\n",
       " 'Magnesium',\n",
       " 'Chloride',\n",
       " 'Bromine',\n",
       " 'Cadmium',\n",
       " 'Chromium',\n",
       " 'Nickel',\n",
       " 'Copper',\n",
       " 'Zinc',\n",
       " 'Manganese',\n",
       " 'Mercury',\n",
       " 'Arsenic',\n",
       " 'Lead',\n",
       " 'THB',\n",
       " 'TC',\n",
       " 'FC',\n",
       " 'FS',\n",
       " 'Vibrio C',\n",
       " 'E Coli']"
      ]
     },
     "execution_count": 83,
     "metadata": {},
     "output_type": "execute_result"
    }
   ],
   "source": [
    "new_cols"
   ]
  },
  {
   "cell_type": "code",
   "execution_count": 84,
   "id": "717f3835",
   "metadata": {},
   "outputs": [
    {
     "data": {
      "image/png": "[encoded data removed]",
      "text/plain": [
       "<Figure size 720x720 with 4 Axes>"
      ]
     },
     "metadata": {
      "needs_background": "light"
     },
     "output_type": "display_data"
    }
   ],
   "source": [
    "import scipy.cluster.hierarchy as shc\n",
    "from sklearn.preprocessing import normalize\n",
    "import pandas as pd\n",
    "import matplotlib.pyplot as plt\n",
    "import seaborn as sns\n",
    "\n",
    "\n",
    "new_cols = ['Temperature',\n",
    " 'pH',\n",
    " 'EC',\n",
    " 'TSS',\n",
    " 'Turbidity',\n",
    " 'Salinity',\n",
    " 'TDS',\n",
    " 'DO',\n",
    " 'COD',\n",
    " 'Ammonium',\n",
    " 'Nitrate',\n",
    " 'Phosphate',\n",
    " 'Sulfates',\n",
    " 'Potassium',\n",
    " 'Calcium',\n",
    " 'Magnesium',\n",
    " 'Chloride',\n",
    " 'Bromine',\n",
    " 'Cadmium',\n",
    " 'Chromium',\n",
    " 'Nickel',\n",
    " 'Copper',\n",
    " 'Zinc',\n",
    " 'Manganese',\n",
    " 'Mercury',\n",
    " 'Arsenic',\n",
    " 'Lead',\n",
    " 'THB',\n",
    " 'TC',\n",
    " 'FC',\n",
    " 'FS',\n",
    " 'Vibrio C',\n",
    " 'E Coli']\n",
    "\n",
    "df = pd.read_csv(\"data/winter_data_all_param.csv\")\n",
    "df.drop(columns=[\"Unnamed: 0\", \"SamplingPoint\"], inplace=True)\n",
    "df.columns = new_cols\n",
    "data_scaled = normalize(df)\n",
    "data_scaled = pd.DataFrame(data_scaled, columns=df.columns)\n",
    "\n",
    "\n",
    "\n",
    "sns.clustermap(data_scaled, method= \"ward\", cmap=\"viridis\")\n",
    "plt.show()"
   ]
  },
  {
   "cell_type": "markdown",
   "id": "09641b6c",
   "metadata": {},
   "source": [
    "winter:\n",
    "    Cluster 1:\n",
    "        S7, S6, S5\n",
    "        S8, S4 Association with cluster 1\n",
    "    Cluster 2:\n",
    "        S2, S1, S9, S3"
   ]
  },
  {
   "cell_type": "code",
   "execution_count": 82,
   "id": "563533d4",
   "metadata": {},
   "outputs": [
    {
     "data": {
      "image/png": "[encoded data removed]",
      "text/plain": [
       "<Figure size 720x720 with 4 Axes>"
      ]
     },
     "metadata": {
      "needs_background": "light"
     },
     "output_type": "display_data"
    }
   ],
   "source": [
    "import scipy.cluster.hierarchy as shc\n",
    "from sklearn.preprocessing import normalize\n",
    "import pandas as pd\n",
    "import matplotlib.pyplot as plt\n",
    "import seaborn as sns\n",
    "\n",
    "\n",
    "df = pd.read_csv(\"data/summer_winter_average.csv\")\n",
    "df.drop(columns=\"Unnamed: 0\", inplace=True)\n",
    "data_scaled = normalize(df)\n",
    "data_scaled = pd.DataFrame(data_scaled, columns=df.columns)\n",
    "\n",
    "\n",
    "\n",
    "sns.clustermap(data_scaled, method= \"ward\", cmap=\"viridis\")\n",
    "plt.show()"
   ]
  },
  {
   "cell_type": "code",
   "execution_count": null,
   "id": "c0c04e62",
   "metadata": {},
   "outputs": [],
   "source": []
  },
  {
   "cell_type": "code",
   "execution_count": 86,
   "id": "084c71fe",
   "metadata": {},
   "outputs": [
    {
     "data": {
      "image/png": "[encoded data removed]",
      "text/plain": [
       "<Figure size 720x720 with 4 Axes>"
      ]
     },
     "metadata": {
      "needs_background": "light"
     },
     "output_type": "display_data"
    }
   ],
   "source": [
    "import scipy.cluster.hierarchy as shc\n",
    "from sklearn.preprocessing import normalize\n",
    "import pandas as pd\n",
    "import matplotlib.pyplot as plt\n",
    "import seaborn as sns\n",
    "\n",
    "new_cols = ['Temperature',\n",
    " 'pH',\n",
    " 'EC',\n",
    " 'TSS',\n",
    " 'Turbidity',\n",
    " 'Salinity',\n",
    " 'TDS',\n",
    " 'DO',\n",
    " 'COD',\n",
    " 'Ammonium',\n",
    " 'Nitrate',\n",
    " 'Phosphate',\n",
    " 'Sulfates',\n",
    " 'Potassium',\n",
    " 'Calcium',\n",
    " 'Magnesium',\n",
    " 'Chloride',\n",
    " 'Bromine',\n",
    " 'Cadmium',\n",
    " 'Chromium',\n",
    " 'Nickel',\n",
    " 'Copper',\n",
    " 'Zinc',\n",
    " 'Manganese',\n",
    " 'Mercury',\n",
    " 'Arsenic',\n",
    " 'Lead',\n",
    " 'THB',\n",
    " 'TC',\n",
    " 'FC',\n",
    " 'FS',\n",
    " 'Vibrio C',\n",
    " 'E Coli']\n",
    "\n",
    "df = pd.read_csv(\"data/winter_data_all_param.csv\")\n",
    "df.drop(columns=[\"Unnamed: 0\", \"SamplingPoint\"], inplace=True)\n",
    "df.columns = new_cols\n",
    "data_scaled = normalize(df)\n",
    "data_scaled = pd.DataFrame(data_scaled, columns=df.columns)\n",
    "\n",
    "sns.clustermap(data_scaled, method= \"ward\", cmap=\"rocket_r\")\n",
    "plt.show()"
   ]
  },
  {
   "cell_type": "code",
   "execution_count": null,
   "id": "38ea5203",
   "metadata": {},
   "outputs": [],
   "source": []
  },
  {
   "cell_type": "code",
   "execution_count": null,
   "id": "700db139",
   "metadata": {},
   "outputs": [],
   "source": []
  },
  {
   "cell_type": "code",
   "execution_count": null,
   "id": "ef2e3878",
   "metadata": {},
   "outputs": [],
   "source": []
  }
 ],
 "metadata": {
  "kernelspec": {
   "display_name": "Python 3 (ipykernel)",
   "language": "python",
   "name": "python3"
  },
  "language_info": {
   "codemirror_mode": {
    "name": "ipython",
    "version": 3
   },
   "file_extension": ".py",
   "mimetype": "text/x-python",
   "name": "python",
   "nbconvert_exporter": "python",
   "pygments_lexer": "ipython3",
   "version": "3.9.12"
  }
 },
 "nbformat": 4,
 "nbformat_minor": 5
}
